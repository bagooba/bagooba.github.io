{
  "nbformat": 4,
  "nbformat_minor": 0,
  "metadata": {
    "colab": {
      "provenance": [],
      "authorship_tag": "ABX9TyNpqVpYxhSd0Crxdp59Wmsl",
      "include_colab_link": true
    },
    "kernelspec": {
      "name": "python3",
      "display_name": "Python 3"
    },
    "language_info": {
      "name": "python"
    }
  },
  "cells": [
    {
      "cell_type": "markdown",
      "metadata": {
        "id": "view-in-github",
        "colab_type": "text"
      },
      "source": [
        "<a href=\"https://colab.research.google.com/github/bagooba/bagooba.github.io/blob/main/Transit_search_lesson_clear.ipynb\" target=\"_parent\"><img src=\"https://colab.research.google.com/assets/colab-badge.svg\" alt=\"Open In Colab\"/></a>"
      ]
    },
    {
      "cell_type": "code",
      "execution_count": null,
      "metadata": {
        "id": "uWOD6ls7QYnZ"
      },
      "outputs": [],
      "source": [
        "from ipywidgets import widgets,interactive, fixed\n",
        "from IPython.display import display\n",
        "from astropy.timeseries import BoxLeastSquares\n",
        "from All_functions import *\n"
      ]
    },
    {
      "cell_type": "code",
      "source": [
        "time_flux = pick_your_lightcurves_gui()"
      ],
      "metadata": {
        "id": "9E3_sV5ugVTL"
      },
      "execution_count": null,
      "outputs": []
    },
    {
      "cell_type": "code",
      "source": [
        "time, flux = time_flux.result\n",
        "flattened_vals = playing_with_detrending_gui(time, flux)"
      ],
      "metadata": {
        "id": "kKtIajS0Qly0"
      },
      "execution_count": null,
      "outputs": []
    },
    {
      "cell_type": "code",
      "source": [
        "flat_time, flat_flux = flattened_vals.result\n",
        "flat_time  = flat_time[~np.isnan(flat_flux)]\n",
        "flat_flux = flat_flux[~np.isnan(flat_flux)]\n",
        "\n",
        "planet_vals = finding_all_transits_gui(flat_time, flat_flux)"
      ],
      "metadata": {
        "id": "UfU_se0USAYj"
      },
      "execution_count": null,
      "outputs": []
    },
    {
      "cell_type": "code",
      "source": [
        "print(\"Now, you can double check if you found the right period! \\n\\\n",
        "Use the code below to see if the strongest signal it finds is the same \\n\\\n",
        "as your period, and if it finds a similar transit time. If the periods \\n\\\n",
        "are different, dont worry! Just talk to me, and maybe run the last cell :)\")\n",
        "\n",
        "\n",
        "\n",
        "BLS_per, BLS_t0 = showing_BLS_for_planet(new_time[~np.isnan(flat_flux)], flat_flux[~np.isnan(flat_flux)])"
      ],
      "metadata": {
        "id": "ZWioX9JQgh3n"
      },
      "execution_count": null,
      "outputs": []
    },
    {
      "cell_type": "code",
      "source": [
        "print('Now, lets try to use that period and t0 val:')\n",
        "t0, per = planet_vals.result\n",
        "model_parameters =  modeling_transits_gui(flat_time, flat_flux, t0, per)"
      ],
      "metadata": {
        "id": "lHpuZ5uxWXOh"
      },
      "execution_count": null,
      "outputs": []
    },
    {
      "cell_type": "markdown",
      "source": [],
      "metadata": {
        "id": "MyoWECAEIPez"
      }
    },
    {
      "cell_type": "code",
      "source": [
        "print('If the periodic search did not find the same period as you did, try dividing the two values. You might just find that this results in an integer, like 1,2,3, etc (not like 2.5 or 3.3). This is because the periodic search found an alias of the period, but something that was very clolse to true!')\n",
        "model_parameters = model_parameters.result\n",
        "\n",
        "period = model_parameters[1]\n",
        "\n",
        "BLS_per/period"
      ],
      "metadata": {
        "id": "1VKBjVAHXidC"
      },
      "execution_count": null,
      "outputs": []
    }
  ]
}